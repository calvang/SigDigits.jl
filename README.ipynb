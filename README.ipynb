{
 "cells": [
  {
   "cell_type": "markdown",
   "metadata": {},
   "source": [
    "# SigFigs.jl\n",
    "\n",
    "---\n",
    "\n",
    "Got tired of manually calculating significant figures, so I made this.\n",
    "\n",
    "SigFigs.jl is a Julia package that automatically handles significant figures in all rudimentary calculations, namely addition, subtraction, multiplication, and division.\n",
    "\n",
    "## Description\n",
    "\n",
    "Calculations are achieved using Julia's built-in metaprogramming and significant figure rounding.\n",
    "\n",
    "This module can handle nested elementary operations, such as:\n",
    "\n",
    "\\begin{equation*}\n",
    "\\frac{3.968 + 3.402 \\cdot 6997.21}{2.498 \\cdot 250.12596 - 56.198}\n",
    "\\end{equation*}\n",
    "\n",
    "## Usage\n",
    "\n",
    "To start input mode, simply type `start`, and you will be prompted.\n",
    "\n",
    "To exit input mode, type `exit`.\n"
   ]
  }
 ],
 "metadata": {
  "kernelspec": {
   "display_name": "Python 3",
   "language": "python",
   "name": "python3"
  },
  "language_info": {
   "codemirror_mode": {
    "name": "ipython",
    "version": 3
   },
   "file_extension": ".py",
   "mimetype": "text/x-python",
   "name": "python",
   "nbconvert_exporter": "python",
   "pygments_lexer": "ipython3",
   "version": "3.5.2"
  }
 },
 "nbformat": 4,
 "nbformat_minor": 0
}